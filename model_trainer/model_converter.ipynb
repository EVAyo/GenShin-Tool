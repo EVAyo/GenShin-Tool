{
 "cells": [
  {
   "cell_type": "code",
   "execution_count": 1,
   "id": "f63470a8",
   "metadata": {},
   "outputs": [
    {
     "ename": "ModuleNotFoundError",
     "evalue": "No module named 'ArtScanner'",
     "output_type": "error",
     "traceback": [
      "\u001b[1;31m---------------------------------------------------------------------------\u001b[0m",
      "\u001b[1;31mModuleNotFoundError\u001b[0m                       Traceback (most recent call last)",
      "\u001b[1;32m~\\AppData\\Local\\Temp/ipykernel_8500/1053126433.py\u001b[0m in \u001b[0;36m<module>\u001b[1;34m\u001b[0m\n\u001b[0;32m     11\u001b[0m \u001b[1;32mfrom\u001b[0m \u001b[0mmobilenetv3\u001b[0m \u001b[1;32mimport\u001b[0m \u001b[0mMobileNetV3_Small\u001b[0m\u001b[1;33m\u001b[0m\u001b[1;33m\u001b[0m\u001b[0m\n\u001b[0;32m     12\u001b[0m \u001b[1;33m\u001b[0m\u001b[0m\n\u001b[1;32m---> 13\u001b[1;33m \u001b[1;32mimport\u001b[0m \u001b[0mArtScanner\u001b[0m\u001b[1;33m.\u001b[0m\u001b[0mArtsInfo\u001b[0m \u001b[1;32mas\u001b[0m \u001b[0mInfo\u001b[0m\u001b[1;33m\u001b[0m\u001b[1;33m\u001b[0m\u001b[0m\n\u001b[0m\u001b[0;32m     14\u001b[0m \u001b[1;33m\u001b[0m\u001b[0m\n\u001b[0;32m     15\u001b[0m \u001b[0mUsers\u001b[0m \u001b[1;33m=\u001b[0m \u001b[0mlist\u001b[0m\u001b[1;33m(\u001b[0m\u001b[0mInfo\u001b[0m\u001b[1;33m.\u001b[0m\u001b[0mUsersCHS\u001b[0m\u001b[1;33m.\u001b[0m\u001b[0mkeys\u001b[0m\u001b[1;33m(\u001b[0m\u001b[1;33m)\u001b[0m\u001b[1;33m)\u001b[0m\u001b[1;33m\u001b[0m\u001b[1;33m\u001b[0m\u001b[0m\n",
      "\u001b[1;31mModuleNotFoundError\u001b[0m: No module named 'ArtScanner'"
     ]
    }
   ],
   "source": [
    "import numpy as np\n",
    "import tensorflow as tf\n",
    "from PIL import ImageFont, Image, ImageDraw\n",
    "from tensorflow import keras\n",
    "from tensorflow.keras.backend import ctc_decode\n",
    "from tensorflow.keras.layers import Input, Reshape, Dense, Dropout, Bidirectional, LSTM\n",
    "from tensorflow.keras.layers.experimental.preprocessing import StringLookup\n",
    "from tensorflow.keras.models import Model\n",
    "from tensorflow.strings import reduce_join\n",
    "\n",
    "from mobilenetv3 import MobileNetV3_Small\n",
    "\n",
    "from ..ArtScanner import ArtsInfo as Info\n",
    "\n",
    "Users = list(Info.UsersCHS.keys())\n",
    "\n",
    "\n",
    "characters = sorted(\n",
    "    [\n",
    "        *set(\n",
    "            \"\".join(\n",
    "                sum(Info.ArtNames, [])\n",
    "                + Info.TypeNames\n",
    "                + list(Info.MainAttrNames.values())\n",
    "                + list(Info.SubAttrNames.values())\n",
    "                + list(\".,+%0123456789\")\n",
    "                + list(Users)\n",
    "                + list(\"已装备\")\n",
    "                # + list(MaterialsNameCHS)\n",
    "            )\n",
    "        )\n",
    "    ]\n",
    ")\n",
    "char_to_num = StringLookup(\n",
    "    vocabulary=list(characters), num_oov_indices=0, mask_token=\"\")\n",
    "num_to_char = StringLookup(\n",
    "    vocabulary=char_to_num.get_vocabulary(), oov_token=\"\", mask_token=\"\", invert=True)\n",
    "\n",
    "width = 240\n",
    "height = 16\n",
    "max_length = 15\n",
    "\n",
    "input_shape = (width, height)\n",
    "\n",
    "input_img = Input(\n",
    "    shape=(input_shape[0], input_shape[1], 1), name=\"image\", dtype=\"float32\"\n",
    ")\n",
    "mobilenet = MobileNetV3_Small(\n",
    "    (input_shape[0], input_shape[1], 1), 0, alpha=1.0, include_top=False\n",
    ").build()\n",
    "x = mobilenet(input_img)\n",
    "new_shape = ((input_shape[0] // 8), (input_shape[1] // 8) * 576)\n",
    "x = Reshape(target_shape=new_shape, name=\"reshape\")(x)\n",
    "x = Dense(64, activation=\"relu\", name=\"dense1\")(x)\n",
    "x = Dropout(0.2)(x)\n",
    "\n",
    "# RNNs\n",
    "x = Bidirectional(LSTM(128, return_sequences=True, dropout=0.25))(x)\n",
    "x = Bidirectional(LSTM(64, return_sequences=True, dropout=0.25))(x)\n",
    "\n",
    "# Output layer\n",
    "output = Dense(len(characters) + 2, activation=\"softmax\", name=\"dense2\")(x)\n",
    "\n",
    "# Define the model\n",
    "model = Model(inputs=[input_img], outputs=output, name=\"ocr_model_v1\")"
   ]
  },
  {
   "cell_type": "code",
   "execution_count": 3,
   "id": "cbc486b6",
   "metadata": {},
   "outputs": [
    {
     "ename": "ModuleNotFoundError",
     "evalue": "No module named 'ArtScanner'",
     "output_type": "error",
     "traceback": [
      "\u001b[1;31m---------------------------------------------------------------------------\u001b[0m",
      "\u001b[1;31mModuleNotFoundError\u001b[0m                       Traceback (most recent call last)",
      "\u001b[1;32m~\\AppData\\Local\\Temp/ipykernel_8500/3179478952.py\u001b[0m in \u001b[0;36m<module>\u001b[1;34m\u001b[0m\n\u001b[1;32m----> 1\u001b[1;33m \u001b[1;32mfrom\u001b[0m \u001b[0mArtScanner\u001b[0m \u001b[1;32mimport\u001b[0m \u001b[0mArtsInfo\u001b[0m \u001b[1;32mas\u001b[0m \u001b[0mInfo\u001b[0m\u001b[1;33m\u001b[0m\u001b[1;33m\u001b[0m\u001b[0m\n\u001b[0m",
      "\u001b[1;31mModuleNotFoundError\u001b[0m: No module named 'ArtScanner'"
     ]
    }
   ],
   "source": []
  },
  {
   "cell_type": "code",
   "execution_count": null,
   "id": "b4cedb13",
   "metadata": {},
   "outputs": [],
   "source": []
  }
 ],
 "metadata": {
  "kernelspec": {
   "display_name": "Python 3 (ipykernel)",
   "language": "python",
   "name": "python3"
  },
  "language_info": {
   "codemirror_mode": {
    "name": "ipython",
    "version": 3
   },
   "file_extension": ".py",
   "mimetype": "text/x-python",
   "name": "python",
   "nbconvert_exporter": "python",
   "pygments_lexer": "ipython3",
   "version": "3.8.8"
  }
 },
 "nbformat": 4,
 "nbformat_minor": 5
}
